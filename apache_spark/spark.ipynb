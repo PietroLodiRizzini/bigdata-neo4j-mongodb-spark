{
  "cells": [
    {
      "cell_type": "code",
      "execution_count": null,
      "id": "6a0a2118",
      "metadata": {
        "id": "6a0a2118"
      },
      "outputs": [],
      "source": [
        "from pyspark.sql import SparkSession\n",
        "from functools import reduce\n",
        "from pyspark.sql.types import *\n",
        "from pyspark.sql.functions import col, split, expr, array_contains"
      ]
    },
    {
      "cell_type": "markdown",
      "id": "ffab28ac",
      "metadata": {
        "id": "ffab28ac"
      },
      "source": [
        "## 1. Start a SparkSession"
      ]
    },
    {
      "cell_type": "code",
      "execution_count": null,
      "id": "8b64d8d0",
      "metadata": {
        "id": "8b64d8d0"
      },
      "outputs": [],
      "source": [
        "# Create an entry point to the PySpark Application\n",
        "spark = SparkSession.builder \\\n",
        "      .master(\"local\") \\\n",
        "      .appName(\"MyFirstSparkApplication\") \\\n",
        "      .getOrCreate()\n",
        "# master contains the URL of your remote spark instance or 'local'"
      ]
    },
    {
      "cell_type": "code",
      "execution_count": null,
      "id": "605a0803",
      "metadata": {
        "id": "605a0803"
      },
      "outputs": [],
      "source": [
        "def HeaderToSchema(header):\n",
        "    structTypeArg = [] # argument to be passed to StructType function\n",
        "    arrayCols = [] # holds the name of the columns that have an array type\n",
        "\n",
        "    for col in header.columns:\n",
        "        typeStr = col.split(\":\")[1]\n",
        "        colStr = col.split(\":\")[0]\n",
        "        if typeStr == \"string[]\":\n",
        "            newCol = StructField(colStr,StringType(),True)\n",
        "            arrayCols.append(colStr)\n",
        "        elif typeStr == \"string\":\n",
        "            newCol = StructField(colStr,StringType(),True)\n",
        "        elif typeStr == \"int\":\n",
        "            newCol = StructField(colStr,IntegerType(),True)\n",
        "        elif typeStr == \"date\":\n",
        "            newCol = StructField(colStr,TimestampType(),True)\n",
        "        elif typeStr == \"ID\":\n",
        "            newCol = StructField(colStr,IntegerType(),True)\n",
        "        else :\n",
        "            newCol = StructField(colStr,StringType(),True)\n",
        "\n",
        "        structTypeArg.append(newCol);\n",
        "\n",
        "    schema = StructType(structTypeArg)\n",
        "\n",
        "    return schema, arrayCols\n",
        "\n",
        "# returns a new df with the columns in cols converted from String to Array, by splitting the string wrt '|'\n",
        "def convertStrToArray(df, cols):\n",
        "    return reduce(\n",
        "        lambda df, colname: df.withColumn(colname, split(col(colname), \"\\\\|\").alias(colname)),\n",
        "        cols,\n",
        "        df\n",
        "    )"
      ]
    },
    {
      "cell_type": "markdown",
      "id": "643d6522",
      "metadata": {
        "id": "643d6522"
      },
      "source": [
        "## 2. Load csv data"
      ]
    },
    {
      "cell_type": "code",
      "execution_count": null,
      "id": "97c32594",
      "metadata": {
        "id": "97c32594",
        "outputId": "a07f7c63-8d92-480e-f367-1a37afab2d4f"
      },
      "outputs": [],
      "source": [
        "#1. Articles\n",
        "header = spark.read.option(\"header\", True).option(\"delimiter\", \";\").csv(\"../neo4j/output_article_header.csv\")\n",
        "schema, cols = HeaderToSchema(header)\n",
        "articles = spark.read.option(\"header\", False).option(\"delimiter\", \";\").csv(\"../neo4j/output_article.csv\",schema = schema)\n",
        "\n",
        "# convert to array\n",
        "articles = convertStrToArray(articles, cols)"
      ]
    },
    {
      "cell_type": "code",
      "execution_count": null,
      "id": "526f1aae",
      "metadata": {
        "id": "526f1aae"
      },
      "outputs": [],
      "source": [
        "#2. Inproceedings\n",
        "header = spark.read.option(\"header\", True).option(\"delimiter\", \";\").csv(\"../neo4j/output_inproceedings_header.csv\")\n",
        "schema, cols = HeaderToSchema(header)\n",
        "inproceedings = spark.read.option(\"header\", False).option(\"delimiter\", \";\").csv(\"dblp_small/inproceedings_small.csv\",schema = schema)\n",
        "\n",
        "# convert to array\n",
        "inproceedings = convertStrToArray(inproceedings, cols)\n"
      ]
    },
    {
      "cell_type": "code",
      "execution_count": null,
      "id": "c26ed939",
      "metadata": {
        "id": "c26ed939"
      },
      "outputs": [],
      "source": [
        "#3. Proceedings\n",
        "header = spark.read.option(\"header\", True).option(\"delimiter\", \";\").csv(\"../neo4j/output_proceedings_header.csv\")\n",
        "schema, cols = HeaderToSchema(header)\n",
        "proceedings = spark.read.option(\"header\", False).option(\"delimiter\", \";\").csv(\"../neo4j/output_proceedings.csv\",schema = schema)\n",
        "\n",
        "# convert to array\n",
        "proceedings = convertStrToArray(proceedings, cols)"
      ]
    },
    {
      "cell_type": "code",
      "execution_count": null,
      "id": "6b32d693",
      "metadata": {
        "id": "6b32d693"
      },
      "outputs": [],
      "source": [
        "#4. Books\n",
        "header = spark.read.option(\"header\", True).option(\"delimiter\", \";\").csv(\"../neo4j/output_book_header.csv\")\n",
        "schema, cols = HeaderToSchema(header)\n",
        "books = spark.read.option(\"header\", False).option(\"delimiter\", \";\").csv(\"../neo4j/output_book.csv\",schema = schema)\n",
        "\n",
        "# convert to array\n",
        "books = convertStrToArray(books, cols)"
      ]
    },
    {
      "cell_type": "code",
      "execution_count": null,
      "id": "3002a075",
      "metadata": {
        "id": "3002a075",
        "scrolled": true
      },
      "outputs": [],
      "source": [
        "#5. Incollection\n",
        "header = spark.read.option(\"header\", True).option(\"delimiter\", \";\").csv(\"../neo4j/output_incollection_header.csv\")\n",
        "schema, cols = HeaderToSchema(header)\n",
        "incollection = spark.read.option(\"header\", False).option(\"delimiter\", \";\").csv(\"../neo4j/output_incollection.csv\",schema = schema)\n",
        "\n",
        "# convert to array\n",
        "incollection = convertStrToArray(incollection, cols)"
      ]
    },
    {
      "cell_type": "code",
      "execution_count": null,
      "id": "e86e5a9c",
      "metadata": {
        "id": "e86e5a9c"
      },
      "outputs": [],
      "source": [
        "#6. www\n",
        "header = spark.read.option(\"header\", True).option(\"delimiter\", \";\").csv(\"../neo4j/output_www_header.csv\")\n",
        "schema, cols = HeaderToSchema(header)\n",
        "www = spark.read.option(\"header\", False).option(\"delimiter\", \";\").csv(\"../neo4j/output_www.csv\",schema = schema)\n",
        "\n",
        "# convert to array\n",
        "www = convertStrToArray(www, cols)"
      ]
    },
    {
      "cell_type": "code",
      "execution_count": null,
      "id": "922a5b2f",
      "metadata": {
        "id": "922a5b2f",
        "scrolled": true
      },
      "outputs": [],
      "source": [
        "#7. phdthesis\n",
        "header = spark.read.option(\"header\", True).option(\"delimiter\", \";\").csv(\"../neo4j/output_phdthesis_header.csv\")\n",
        "schema, cols = HeaderToSchema(header)\n",
        "phdthesis = spark.read.option(\"header\", False).option(\"delimiter\", \";\").csv(\"../neo4j/output_phdthesis.csv\",schema = schema)\n",
        "\n",
        "# convert to array\n",
        "phdthesis = convertStrToArray(phdthesis, cols)"
      ]
    },
    {
      "cell_type": "code",
      "execution_count": null,
      "id": "a305975b",
      "metadata": {
        "id": "a305975b",
        "scrolled": true
      },
      "outputs": [],
      "source": [
        "#8. mastersthesis\n",
        "header = spark.read.option(\"header\", True).option(\"delimiter\", \";\").csv(\"../neo4j/output_mastersthesis_header.csv\")\n",
        "schema, cols = HeaderToSchema(header)\n",
        "mastersthesis = spark.read.option(\"header\", False).option(\"delimiter\", \";\").csv(\"../neo4j/output_mastersthesis.csv\",schema = schema)\n",
        "\n",
        "# convert to array\n",
        "mastersthesis = convertStrToArray(mastersthesis, cols)"
      ]
    },
    {
      "cell_type": "markdown",
      "id": "m8ZPokrBAaG4",
      "metadata": {
        "id": "m8ZPokrBAaG4"
      },
      "source": [
        "# 3. Update Commands"
      ]
    },
    {
      "cell_type": "markdown",
      "id": "DUV8Ox3SDz7s",
      "metadata": {
        "id": "DUV8Ox3SDz7s"
      },
      "source": [
        "#### Deletion of rows containing null value\n"
      ]
    },
    {
      "cell_type": "code",
      "execution_count": null,
      "id": "AX5I71bYAlD0",
      "metadata": {
        "id": "AX5I71bYAlD0"
      },
      "outputs": [],
      "source": [
        "mastersthesis.na.drop(subset=[\"ee\"]) \\\n",
        "    .select(\"mastersthesis\", \"author\", \"ee\", \"school\", \"title\")\\\n",
        "    .show()"
      ]
    },
    {
      "cell_type": "markdown",
      "id": "raCpMc4iEPf1",
      "metadata": {
        "id": "raCpMc4iEPf1"
      },
      "source": [
        "#### Deleting proceedings without editors"
      ]
    },
    {
      "cell_type": "code",
      "execution_count": null,
      "id": "tJWwwNK5ETzw",
      "metadata": {
        "id": "tJWwwNK5ETzw"
      },
      "outputs": [],
      "source": [
        "proceedings.withColumn(\"number_of_editors\",size(col(\"editor\"))) \\\n",
        ".select(col(\"editor\"), col(\"number_of_editors\")) \\\n",
        ".show()"
      ]
    },
    {
      "cell_type": "markdown",
      "id": "-z-_09nzEbBV",
      "metadata": {
        "id": "-z-_09nzEbBV"
      },
      "source": [
        "#### Remove a specific author from the author array of the articles dataframe"
      ]
    },
    {
      "cell_type": "code",
      "execution_count": null,
      "id": "nbQuygDlEifa",
      "metadata": {
        "id": "nbQuygDlEifa"
      },
      "outputs": [],
      "source": [
        "articles = articles.withColumn(\"author\", when(array_contains(articles.author, \"Marina L. Gavrilova\"),\n",
        "                                              array_remove(articles.author, \"Marina L. Gavrilova\"))\n",
        "                                        .otherwise(articles.author))"
      ]
    },
    {
      "cell_type": "markdown",
      "id": "MqQZIR7zqbA_",
      "metadata": {
        "id": "MqQZIR7zqbA_"
      },
      "source": [
        "#### Remove an article"
      ]
    },
    {
      "cell_type": "code",
      "execution_count": null,
      "id": "diGdaF-Cqcn_",
      "metadata": {
        "id": "diGdaF-Cqcn_"
      },
      "outputs": [],
      "source": [
        "articles = articles.filter(articles.article != 10)\n"
      ]
    },
    {
      "cell_type": "markdown",
      "id": "MqDDnYYlpgSy",
      "metadata": {
        "id": "MqDDnYYlpgSy"
      },
      "source": [
        "#### Create a dataframe containing the authors of articles"
      ]
    },
    {
      "cell_type": "code",
      "execution_count": null,
      "id": "OnceI-Edp-DY",
      "metadata": {
        "id": "OnceI-Edp-DY"
      },
      "outputs": [],
      "source": [
        "articles.select(explode(articles.author).alias(\"singleAuthor\"), articles.key)"
      ]
    },
    {
      "cell_type": "markdown",
      "id": "kFKeyI3Cr4rI",
      "metadata": {
        "id": "kFKeyI3Cr4rI"
      },
      "source": [
        "# 4. Queries"
      ]
    },
    {
      "cell_type": "markdown",
      "id": "Jv5voyRbsOWM",
      "metadata": {
        "id": "Jv5voyRbsOWM"
      },
      "source": [
        "#### Books and articles written by the same author"
      ]
    },
    {
      "cell_type": "markdown",
      "id": "qwF56SzQp-M8",
      "metadata": {
        "id": "qwF56SzQp-M8"
      },
      "source": []
    },
    {
      "cell_type": "code",
      "execution_count": null,
      "id": "j1UJrEwvr7Kp",
      "metadata": {
        "id": "j1UJrEwvr7Kp"
      },
      "outputs": [],
      "source": [
        "# Selection of authors which have written both books and articles\n",
        "books.alias(\"books\").join(articles.alias(\"articles\"),\n",
        "col(\"books.author-orcid\") == col(\"articles.author-orcid\"), \"inner\") \\\n",
        ".select(\"books.author\", \"books.title\", \"articles.title\") \\\n",
        ".show(n=5, truncate=False, vertical=True)"
      ]
    },
    {
      "cell_type": "markdown",
      "id": "0xZZlj7DsXdL",
      "metadata": {
        "id": "0xZZlj7DsXdL"
      },
      "source": [
        "#### Most recent articles containing \"Analysis\""
      ]
    },
    {
      "cell_type": "code",
      "execution_count": null,
      "id": "wM_wTSGUsIvf",
      "metadata": {
        "id": "wM_wTSGUsIvf"
      },
      "outputs": [],
      "source": [
        "# Selection of articles which contained the word \"Analysis\", modified after 2020\n",
        "articles.filter((col(\"title\").like(\"%Analysis%\")) &\n",
        "(to_date(col(\"mdate\"), \"dd/MM/yyyy\") >= lit(\"2020-01-01\"))) \\\n",
        ".select(\"article\", \"title\", \"mdate\") \\\n",
        ".limit(5) \\\n",
        ".show(truncate = False, vertical = True)"
      ]
    },
    {
      "cell_type": "markdown",
      "id": "4_NNttt7siFj",
      "metadata": {
        "id": "4_NNttt7siFj"
      },
      "source": [
        "#### Authors of incollection and articles"
      ]
    },
    {
      "cell_type": "code",
      "execution_count": null,
      "id": "jVAmNA_9slJG",
      "metadata": {
        "id": "jVAmNA_9slJG"
      },
      "outputs": [],
      "source": [
        "#  Selection of authors which have written incollection in 2020\n",
        "authors = incollection.filter((to_date(col(\"mdate\"), \"dd/MM/yyyy\") >=\n",
        "        lit(\"2020-01-01\")) & (to_date(col(\"mdate\"), \"dd/MM/yyyy\") <=\n",
        "        lit(\"2021-01-01\"))) \\\n",
        "    .groupBy(\"author-orcid\") \\\n",
        "    .count() \\\n",
        "    .select(explode(col('author-orcid'))) \\\n",
        "    .collect()\n",
        "\n",
        "# Transform GroupData into a List\n",
        "authors_orcid_list = []\n",
        "for row in authors :\n",
        "    if row['col'] != None :\n",
        "        authors_orcid_list.append(row['col'])\n",
        "\n",
        "#Deletion of null value in the incollection DataFrame\n",
        "incollection.na.drop(subset=[\"author-orcid\"]) \\\n",
        "    .select(\"author-orcid\", \"author\")\\\n",
        "    .show()\n",
        "\n",
        "# WHERE, IN, NESTED QUERY\n",
        "articles.filter((to_date(col(\"mdate\"), \"dd/MM/yyyy\") >= lit(\"2020-01-01\"))\n",
        "        & (to_date(col(\"mdate\"), \"dd/MM/yyyy\") <= lit(\"2021-01-01\"))) \\\n",
        "    .select(col('author'), explode(col('author-orcid')), col('title')) \\\n",
        "    .withColumnRenamed('col', 'orcid') \\\n",
        "    .filter(col('orcid').isin(authors_orcid_list)) \\\n",
        "    .show()"
      ]
    },
    {
      "cell_type": "markdown",
      "id": "d8Gq8Z6Gs3kT",
      "metadata": {
        "id": "d8Gq8Z6Gs3kT"
      },
      "source": [
        "#### Number of inproceedings related to each publisher"
      ]
    },
    {
      "cell_type": "code",
      "execution_count": null,
      "id": "gppm3u-fs6-7",
      "metadata": {
        "id": "gppm3u-fs6-7"
      },
      "outputs": [],
      "source": [
        "inproceedings.join(proceedings,\n",
        "    inproceedings.booktitle == proceedings.booktitle, \"inner\") \\\n",
        "    .select(inproceedings.title,\n",
        "        explode(proceedings.publisher).alias(\"singlePublisher\")) \\\n",
        "    .groupby(\"singlePublisher\") \\\n",
        "    .count() \\\n",
        "    .withColumnRenamed(\"count\",\"numberOfInproceedings\") \\\n",
        "    .sort(col(\"numberOfInproceedings\").desc()) \\\n",
        "    .show(truncate=False)\n"
      ]
    },
    {
      "cell_type": "markdown",
      "id": "xtFZ5r57tB3m",
      "metadata": {
        "id": "xtFZ5r57tB3m"
      },
      "source": [
        "#### Number of articles written by a specific author over the years"
      ]
    },
    {
      "cell_type": "code",
      "execution_count": null,
      "id": "QJGXBbnftPVR",
      "metadata": {
        "id": "QJGXBbnftPVR"
      },
      "outputs": [],
      "source": [
        "articles.filter(array_contains(articles.author, \"Joaquim Filipe\")) \\\n",
        ".groupby(articles.year) \\\n",
        ".count() \\\n",
        ".sort(\"year\") \\\n",
        ".show()"
      ]
    },
    {
      "cell_type": "markdown",
      "id": "XJcykxV1tRwi",
      "metadata": {
        "id": "XJcykxV1tRwi"
      },
      "source": [
        "#### Return number of inproceedings written by each author that has written more than one of them"
      ]
    },
    {
      "cell_type": "code",
      "execution_count": null,
      "id": "fDeB-9hutVyD",
      "metadata": {
        "id": "fDeB-9hutVyD"
      },
      "outputs": [],
      "source": [
        "inproceedings.select(explode(inproceedings.author).alias(\"singleAuthor\")) \\\n",
        "     .groupby(\"singleAuthor\") \\\n",
        "     .count() \\\n",
        "     .withColumnRenamed(\"count\",\"writtenInproceedings\") \\\n",
        "     .filter(\"count > 1\") \\\n",
        "     .sort(col(\"writtenInproceedings\").desc()) \\\n",
        "     .show()\n"
      ]
    },
    {
      "cell_type": "markdown",
      "id": "31Hg7GK2tXtN",
      "metadata": {
        "id": "31Hg7GK2tXtN"
      },
      "source": [
        "#### Return the number of articles whose title starts with a specific letter, written by certain authors"
      ]
    },
    {
      "cell_type": "code",
      "execution_count": null,
      "id": "5UCteAiJtcDc",
      "metadata": {
        "id": "5UCteAiJtcDc"
      },
      "outputs": [],
      "source": [
        "articles.filter(col('title').startswith('A')) \\\n",
        ".filter(array_contains(articles.author, 'Ivan Yotov') |\n",
        "                     array_contains(articles.author, 'Paola Bonizzoni'))\\\n",
        ".groupby(col('author')) \\\n",
        ".count() \\\n",
        ".withColumnRenamed('count', 'number_of_articles') \\\n",
        ".sort(col('number_of_articles').desc()) \\\n",
        ".show(truncate= False)"
      ]
    },
    {
      "cell_type": "code",
      "execution_count": null,
      "id": "w1NXOvfLtnkn",
      "metadata": {
        "id": "w1NXOvfLtnkn"
      },
      "outputs": [],
      "source": [
        "articles.filter(array_contains(articles.author, 'Ivan Yotov') |\n",
        "                     array_contains(articles.author, 'Paola Bonizzoni'))\\\n",
        ".select(col('title'), col('author')) \\\n",
        ".show()"
      ]
    },
    {
      "cell_type": "markdown",
      "id": "TlWKU1J6ttbT",
      "metadata": {
        "id": "TlWKU1J6ttbT"
      },
      "source": [
        "#### Article of a specific journal having the maximum number of authors"
      ]
    },
    {
      "cell_type": "code",
      "execution_count": null,
      "id": "TXi2DaAUtypL",
      "metadata": {
        "id": "TXi2DaAUtypL"
      },
      "outputs": [],
      "source": [
        "articles_exploded = articles.filter(col('journal') == \"Sci. Eng. Ethics\") \\\n",
        ".select(col('article'), col('title'), explode(col('author')))\n",
        "\n",
        "articles_exploded.groupby(col('article'), col('title')) \\\n",
        ".count() \\\n",
        ".sort(col('count').desc()) \\\n",
        ".limit(1).show()"
      ]
    },
    {
      "cell_type": "markdown",
      "id": "HzJC98uBtzTF",
      "metadata": {
        "id": "HzJC98uBtzTF"
      },
      "source": [
        "#### Proceedings edited by a specific person containing more than 50 inproceedings"
      ]
    },
    {
      "cell_type": "code",
      "execution_count": null,
      "id": "Jc8PmsRPt5lV",
      "metadata": {
        "id": "Jc8PmsRPt5lV"
      },
      "outputs": [],
      "source": [
        "proceedings.join(inproceedings, array_contains(inproceedings.crossref,\n",
        "    proceedings.key)) \\\n",
        ".filter(array_contains(proceedings.editor, \"Joaquim Filipe\")) \\\n",
        ".select(proceedings.key, proceedings.proceedings) \\\n",
        ".groupby(proceedings.key).count() \\\n",
        ".where(\"count > 50\") \\\n",
        ".show()"
      ]
    },
    {
      "cell_type": "markdown",
      "id": "ngy1AvVjt9g7",
      "metadata": {
        "id": "ngy1AvVjt9g7"
      },
      "source": [
        "#### Return the list of inproceedings written by authors that have a website and have written more than one inproceedings but no articles"
      ]
    },
    {
      "cell_type": "code",
      "execution_count": null,
      "id": "N0lTaTWguBYu",
      "metadata": {
        "id": "N0lTaTWguBYu"
      },
      "outputs": [],
      "source": [
        "art = articles.select(explode(articles.author)\n",
        "                    .alias(\"singleAuthor\"), articles.key)\n",
        "\n",
        "inp = inproceedings.select(explode(inproceedings.author)\n",
        "                        .alias(\"singleAuthor\"), inproceedings.key)\n",
        "\n",
        "wwwSingleAuthors = www.select(explode(www.author)\n",
        "                        .alias(\"singleAuthor\"), www.key, www.mdate)\n",
        "\n",
        "wwwSingleAuthors.filter(year(to_date(col(\"mdate\"), \"dd/MM/yyyy\")) >= \"2010\") \\\n",
        "                .join(inp, wwwSingleAuthors.singleAuthor == inp.singleAuthor,\n",
        "                    \"inner\") \\\n",
        "                .drop(inp.singleAuthor) \\\n",
        "                .groupby(wwwSingleAuthors.singleAuthor) \\\n",
        "                .agg(\n",
        "                    array_join(\n",
        "                        collect_list(inp.key),\n",
        "                        delimiter=',',\n",
        "                    ).alias(\"key\")\n",
        "                ) \\\n",
        "                .join(art, wwwSingleAuthors.singleAuthor == art.singleAuthor,\n",
        "                    \"leftanti\") \\\n",
        "                .select(wwwSingleAuthors.singleAuthor, split(\"key\", \",\")\n",
        "                    .alias(\"key\")) \\\n",
        "                .filter(size(\"key\") > 1) \\\n",
        "                .show(n=20)"
      ]
    }
  ],
  "metadata": {
    "colab": {
      "provenance": []
    },
    "kernelspec": {
      "display_name": "Python 3 (ipykernel)",
      "language": "python",
      "name": "python3"
    },
    "language_info": {
      "codemirror_mode": {
        "name": "ipython",
        "version": 3
      },
      "file_extension": ".py",
      "mimetype": "text/x-python",
      "name": "python",
      "nbconvert_exporter": "python",
      "pygments_lexer": "ipython3",
      "version": "3.9.6"
    }
  },
  "nbformat": 4,
  "nbformat_minor": 5
}
